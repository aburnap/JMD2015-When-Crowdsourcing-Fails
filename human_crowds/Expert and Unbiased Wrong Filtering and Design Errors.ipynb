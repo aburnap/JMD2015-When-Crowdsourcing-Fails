{
 "metadata": {
  "name": "",
  "signature": "sha256:e86c3cd72dc571a834df13df2945c119672452958b30d9cffb5907530a86db57"
 },
 "nbformat": 3,
 "nbformat_minor": 0,
 "worksheets": [
  {
   "cells": [
    {
     "cell_type": "code",
     "collapsed": false,
     "input": [
      "%run cluster_sweep_revision.py"
     ],
     "language": "python",
     "metadata": {},
     "outputs": [
      {
       "output_type": "stream",
       "stream": "stdout",
       "text": [
        "---------- Data Loaded ----------------------------------------------\n",
        "Cluster error #0"
       ]
      },
      {
       "output_type": "stream",
       "stream": "stdout",
       "text": [
        "\n",
        "1.41460553559\n",
        "Cluster error #1\n",
        "0.54407419739\n",
        "Cluster error #2\n",
        "2.20260596981\n",
        "Cluster error #3\n",
        "1.6524793234\n",
        "Cluster error #4\n",
        "6.03068463833\n"
       ]
      }
     ],
     "prompt_number": 1
    },
    {
     "cell_type": "code",
     "collapsed": false,
     "input": [
      "pl.show()"
     ],
     "language": "python",
     "metadata": {},
     "outputs": [],
     "prompt_number": 2
    },
    {
     "cell_type": "code",
     "collapsed": false,
     "input": [
      "cluster_error_matrix.mean(axis=1)"
     ],
     "language": "python",
     "metadata": {},
     "outputs": [
      {
       "metadata": {},
       "output_type": "pyout",
       "prompt_number": 6,
       "text": [
        "array([ 1.82607946,  2.39371708,  0.79602732,  1.80470155,  6.27460825])"
       ]
      }
     ],
     "prompt_number": 6
    },
    {
     "cell_type": "code",
     "collapsed": false,
     "input": [
      "cluster_core_samples"
     ],
     "language": "python",
     "metadata": {},
     "outputs": [
      {
       "metadata": {},
       "output_type": "pyout",
       "prompt_number": 9,
       "text": [
        "[]"
       ]
      }
     ],
     "prompt_number": 9
    },
    {
     "cell_type": "code",
     "collapsed": false,
     "input": [
      "len(class_members)"
     ],
     "language": "python",
     "metadata": {},
     "outputs": [
      {
       "metadata": {},
       "output_type": "pyout",
       "prompt_number": 15,
       "text": [
        "124"
       ]
      }
     ],
     "prompt_number": 15
    },
    {
     "cell_type": "code",
     "collapsed": false,
     "input": [
      "np.where(labels==2 or labels==-1)"
     ],
     "language": "python",
     "metadata": {},
     "outputs": [
      {
       "ename": "ValueError",
       "evalue": "The truth value of an array with more than one element is ambiguous. Use a.any() or a.all()",
       "output_type": "pyerr",
       "traceback": [
        "\u001b[1;31m---------------------------------------------------------------------------\u001b[0m\n\u001b[1;31mValueError\u001b[0m                                Traceback (most recent call last)",
        "\u001b[1;32m<ipython-input-22-24bc4f7a2923>\u001b[0m in \u001b[0;36m<module>\u001b[1;34m()\u001b[0m\n\u001b[1;32m----> 1\u001b[1;33m \u001b[0mnp\u001b[0m\u001b[1;33m.\u001b[0m\u001b[0mwhere\u001b[0m\u001b[1;33m(\u001b[0m\u001b[0mlabels\u001b[0m\u001b[1;33m==\u001b[0m\u001b[1;36m2\u001b[0m \u001b[1;32mor\u001b[0m \u001b[0mlabels\u001b[0m\u001b[1;33m==\u001b[0m\u001b[1;33m-\u001b[0m\u001b[1;36m1\u001b[0m\u001b[1;33m)\u001b[0m\u001b[1;33m\u001b[0m\u001b[0m\n\u001b[0m",
        "\u001b[1;31mValueError\u001b[0m: The truth value of an array with more than one element is ambiguous. Use a.any() or a.all()"
       ]
      }
     ],
     "prompt_number": 22
    },
    {
     "cell_type": "code",
     "collapsed": false,
     "input": [
      "np.where(labels==2)"
     ],
     "language": "python",
     "metadata": {},
     "outputs": [
      {
       "metadata": {},
       "output_type": "pyout",
       "prompt_number": 23,
       "text": [
        "(array([ 16,  18,  39,  60,  75,  94, 149, 158]),)"
       ]
      }
     ],
     "prompt_number": 23
    },
    {
     "cell_type": "code",
     "collapsed": false,
     "input": [
      "np.where(labels==-1)"
     ],
     "language": "python",
     "metadata": {},
     "outputs": [
      {
       "metadata": {},
       "output_type": "pyout",
       "prompt_number": 24,
       "text": [
        "(array([  0,   3,   4,   7,   8,   9,  11,  13,  14,  15,  17,  19,  20,\n",
        "         21,  22,  25,  26,  27,  28,  29,  30,  31,  35,  36,  37,  38,\n",
        "         40,  42,  44,  45,  47,  48,  49,  50,  51,  52,  53,  54,  55,\n",
        "         56,  58,  59,  61,  62,  63,  65,  66,  67,  68,  70,  71,  72,\n",
        "         77,  79,  80,  81,  84,  86,  88,  89,  92,  93,  95,  97,  99,\n",
        "        100, 101, 102, 104, 106, 107, 109, 110, 111, 112, 113, 114, 115,\n",
        "        116, 117, 120, 121, 122, 123, 124, 126, 127, 128, 129, 130, 131,\n",
        "        132, 133, 134, 135, 136, 138, 139, 140, 142, 143, 144, 148, 151,\n",
        "        153, 154, 155, 156, 159, 161, 162, 163, 164, 165, 166, 167, 168,\n",
        "        169, 170, 172, 176, 177, 179, 180]),)"
       ]
      }
     ],
     "prompt_number": 24
    },
    {
     "cell_type": "code",
     "collapsed": false,
     "input": [
      "experts_and_unbiased_wrong_inds = np.concatenate([np.where(labels==-1)[0], np.where(labels==1)[0]])"
     ],
     "language": "python",
     "metadata": {},
     "outputs": [],
     "prompt_number": 23
    },
    {
     "cell_type": "code",
     "collapsed": false,
     "input": [
      "np.where(labels==1)[0]"
     ],
     "language": "python",
     "metadata": {},
     "outputs": [
      {
       "metadata": {},
       "output_type": "pyout",
       "prompt_number": 24,
       "text": [
        "array([ 16,  18,  39,  60,  75,  94, 149, 158])"
       ]
      }
     ],
     "prompt_number": 24
    },
    {
     "cell_type": "code",
     "collapsed": false,
     "input": [
      "experts_and_unbiased_wrong_evaluations = data_matrix[experts_and_unbiased_wrong_inds]"
     ],
     "language": "python",
     "metadata": {},
     "outputs": [],
     "prompt_number": 25
    },
    {
     "cell_type": "code",
     "collapsed": false,
     "input": [
      "num_experts_and_unbiased_wrong = experts_and_unbiased_wrong_evaluations.shape[0]"
     ],
     "language": "python",
     "metadata": {},
     "outputs": [],
     "prompt_number": 5
    },
    {
     "cell_type": "code",
     "collapsed": false,
     "input": [
      "expert_and_unbiased_averages = experts_and_unbiased_wrong_evaluations.mean(axis=0)"
     ],
     "language": "python",
     "metadata": {},
     "outputs": [],
     "prompt_number": 26
    },
    {
     "cell_type": "code",
     "collapsed": false,
     "input": [
      "expert_and_unbiased_averages"
     ],
     "language": "python",
     "metadata": {},
     "outputs": [
      {
       "metadata": {},
       "output_type": "pyout",
       "prompt_number": 27,
       "text": [
        "array([ 3.6010101 ,  3.21717172,  3.25      ,  2.76010101,  2.47727273,\n",
        "        2.53030303,  2.91161616,  3.1540404 ])"
       ]
      }
     ],
     "prompt_number": 27
    },
    {
     "cell_type": "code",
     "collapsed": false,
     "input": [
      "data_matrix.mean(axis=0)"
     ],
     "language": "python",
     "metadata": {},
     "outputs": [
      {
       "metadata": {},
       "output_type": "pyout",
       "prompt_number": 28,
       "text": [
        "array([ 3.85267035,  3.42541436,  3.41436464,  2.89502762,  2.46593002,\n",
        "        2.40699816,  2.78268877,  2.87292818])"
       ]
      }
     ],
     "prompt_number": 28
    },
    {
     "cell_type": "code",
     "collapsed": false,
     "input": [
      "true_scores"
     ],
     "language": "python",
     "metadata": {},
     "outputs": [
      {
       "metadata": {},
       "output_type": "pyout",
       "prompt_number": 61,
       "text": [
        "array([ 5.        ,  4.6514691 ,  3.62613982,  3.64235056,  1.        ,\n",
        "        1.56737589,  4.0070922 ,  2.39007092])"
       ]
      }
     ],
     "prompt_number": 61
    },
    {
     "cell_type": "code",
     "collapsed": false,
     "input": [
      "averaging_MSqE = np.average((np.array(true_scores) - np.array(data_matrix.mean(axis=0)))**2)"
     ],
     "language": "python",
     "metadata": {},
     "outputs": [],
     "prompt_number": 29
    },
    {
     "cell_type": "code",
     "collapsed": false,
     "input": [
      "averaging_MSqE"
     ],
     "language": "python",
     "metadata": {},
     "outputs": [
      {
       "metadata": {},
       "output_type": "pyout",
       "prompt_number": 30,
       "text": [
        "1.0011433874596753"
       ]
      }
     ],
     "prompt_number": 30
    },
    {
     "cell_type": "code",
     "collapsed": false,
     "input": [
      "expert_and_unbiased_MSqE = np.average((np.array(true_scores) - np.array(expert_and_unbiased_averages))**2)"
     ],
     "language": "python",
     "metadata": {},
     "outputs": [],
     "prompt_number": 31
    },
    {
     "cell_type": "code",
     "collapsed": false,
     "input": [
      "expert_and_unbiased_MSqE"
     ],
     "language": "python",
     "metadata": {},
     "outputs": [
      {
       "metadata": {},
       "output_type": "pyout",
       "prompt_number": 32,
       "text": [
        "1.2284384566010307"
       ]
      }
     ],
     "prompt_number": 32
    },
    {
     "cell_type": "code",
     "collapsed": false,
     "input": [
      "expert_evaluations = evaluations_matrix[np.where(labels==-1)[0]].mean(axis=0)"
     ],
     "language": "python",
     "metadata": {},
     "outputs": [],
     "prompt_number": 13
    },
    {
     "cell_type": "code",
     "collapsed": false,
     "input": [
      "expert_evaluations"
     ],
     "language": "python",
     "metadata": {},
     "outputs": [
      {
       "metadata": {},
       "output_type": "pyout",
       "prompt_number": 14,
       "text": [
        "array([ 1.61290323,  1.41129032,  1.4516129 ,  1.20967742,  1.03225806,\n",
        "        1.03225806,  1.28225806,  1.37903226])"
       ]
      }
     ],
     "prompt_number": 14
    },
    {
     "cell_type": "code",
     "collapsed": false,
     "input": [
      "expert_MSqE = np.average((np.array(true_scores) - np.array(expert_evaluations))**2)"
     ],
     "language": "python",
     "metadata": {},
     "outputs": [],
     "prompt_number": 15
    },
    {
     "cell_type": "code",
     "collapsed": false,
     "input": [
      "expert_MSqE"
     ],
     "language": "python",
     "metadata": {},
     "outputs": [
      {
       "metadata": {},
       "output_type": "pyout",
       "prompt_number": 16,
       "text": [
        "5.1689951072214937"
       ]
      }
     ],
     "prompt_number": 16
    },
    {
     "cell_type": "code",
     "collapsed": false,
     "input": [
      "for label_id in xrange(-1,5):    \n",
      "    print np.average((np.array(true_scores) - np.array(data_matrix[np.where(labels==label_id)[0]].mean(axis=0)))**2)"
     ],
     "language": "python",
     "metadata": {},
     "outputs": [
      {
       "output_type": "stream",
       "stream": "stdout",
       "text": [
        "1.33986852493\n",
        "1.41460553559\n",
        "0.54407419739\n",
        "2.20260596981\n",
        "1.6524793234\n",
        "6.03068463833\n"
       ]
      }
     ],
     "prompt_number": 20
    },
    {
     "cell_type": "code",
     "collapsed": false,
     "input": [
      "np.average((np.array(true_scores) - np.array(data_matrix.mean(axis=0)))**2)"
     ],
     "language": "python",
     "metadata": {},
     "outputs": [
      {
       "metadata": {},
       "output_type": "pyout",
       "prompt_number": 22,
       "text": [
        "1.0011433874596753"
       ]
      }
     ],
     "prompt_number": 22
    },
    {
     "cell_type": "code",
     "collapsed": false,
     "input": [
      "np.where(labels==2)"
     ],
     "language": "python",
     "metadata": {},
     "outputs": [
      {
       "metadata": {},
       "output_type": "pyout",
       "prompt_number": 4,
       "text": [
        "(array([ 16,  18,  39,  60,  75,  94, 149, 158]),)"
       ]
      }
     ],
     "prompt_number": 4
    },
    {
     "cell_type": "code",
     "collapsed": false,
     "input": [
      "pl.show()"
     ],
     "language": "python",
     "metadata": {},
     "outputs": [],
     "prompt_number": 16
    },
    {
     "cell_type": "code",
     "collapsed": false,
     "input": [
      "for label_id in xrange(0,5):\n",
      "    print \"Cluster error #%s\" % label_id\n",
      "    print np.average((np.array(true_scores) - np.array(data_matrix[np.where(labels==label_id)[0]].mean(axis=0)))**2)"
     ],
     "language": "python",
     "metadata": {},
     "outputs": [
      {
       "output_type": "stream",
       "stream": "stdout",
       "text": [
        "Cluster error #0\n",
        "1.41460553559\n",
        "Cluster error #1\n",
        "0.54407419739\n",
        "Cluster error #2\n",
        "2.20260596981\n",
        "Cluster error #3\n",
        "1.6524793234\n",
        "Cluster error #4\n",
        "6.03068463833\n"
       ]
      }
     ],
     "prompt_number": 17
    },
    {
     "cell_type": "code",
     "collapsed": false,
     "input": [
      "data_matrix"
     ],
     "language": "python",
     "metadata": {},
     "outputs": [
      {
       "metadata": {},
       "output_type": "pyout",
       "prompt_number": 18,
       "text": [
        "array([[ 5.        ,  4.        ,  4.        , ...,  3.        ,\n",
        "         3.        ,  1.        ],\n",
        "       [ 5.        ,  2.33333333,  2.33333333, ...,  1.        ,\n",
        "         3.66666667,  3.66666667],\n",
        "       [ 4.        ,  3.        ,  3.        , ...,  1.        ,\n",
        "         4.        ,  5.        ],\n",
        "       ..., \n",
        "       [ 5.        ,  5.        ,  5.        , ...,  1.        ,\n",
        "         3.        ,  1.        ],\n",
        "       [ 5.        ,  4.        ,  4.        , ...,  1.        ,\n",
        "         1.        ,  2.        ],\n",
        "       [ 5.        ,  4.        ,  4.        , ...,  3.        ,\n",
        "         2.        ,  1.        ]])"
       ]
      }
     ],
     "prompt_number": 18
    },
    {
     "cell_type": "code",
     "collapsed": false,
     "input": [
      "evaluations_matrix"
     ],
     "language": "python",
     "metadata": {},
     "outputs": [
      {
       "metadata": {},
       "output_type": "pyout",
       "prompt_number": 19,
       "text": [
        "array([[ 4.,  3.,  3., ...,  2.,  2.,  0.],\n",
        "       [ 3.,  1.,  1., ...,  0.,  2.,  2.],\n",
        "       [ 3.,  2.,  2., ...,  0.,  3.,  4.],\n",
        "       ..., \n",
        "       [ 2.,  2.,  2., ...,  0.,  1.,  0.],\n",
        "       [ 4.,  3.,  3., ...,  0.,  0.,  1.],\n",
        "       [ 4.,  3.,  3., ...,  2.,  1.,  0.]])"
       ]
      }
     ],
     "prompt_number": 19
    },
    {
     "cell_type": "code",
     "collapsed": false,
     "input": [
      "np.average((np.array(true_scores) - np.array(data_matrix[np.where(labels!=1)[0]].mean(axis=0)))**2)"
     ],
     "language": "python",
     "metadata": {},
     "outputs": [
      {
       "metadata": {},
       "output_type": "pyout",
       "prompt_number": 35,
       "text": [
        "1.0569103919378759"
       ]
      }
     ],
     "prompt_number": 35
    },
    {
     "cell_type": "code",
     "collapsed": false,
     "input": [],
     "language": "python",
     "metadata": {},
     "outputs": []
    }
   ],
   "metadata": {}
  }
 ]
}